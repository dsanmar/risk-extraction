{
 "cells": [
  {
   "cell_type": "code",
   "execution_count": 2,
   "id": "843dd8b4",
   "metadata": {},
   "outputs": [
    {
     "name": "stdout",
     "output_type": "stream",
     "text": [
      "Found existing installation: nltk 3.8.1\n",
      "Uninstalling nltk-3.8.1:\n",
      "  Successfully uninstalled nltk-3.8.1\n",
      "Collecting nltk==3.8.1\n",
      "  Using cached nltk-3.8.1-py3-none-any.whl.metadata (2.8 kB)\n",
      "Requirement already satisfied: click in /Users/marsanto/DevProjects/python/hello-pandas/.venv/lib/python3.13/site-packages (from nltk==3.8.1) (8.2.1)\n",
      "Requirement already satisfied: joblib in /Users/marsanto/DevProjects/python/hello-pandas/.venv/lib/python3.13/site-packages (from nltk==3.8.1) (1.5.1)\n",
      "Requirement already satisfied: regex>=2021.8.3 in /Users/marsanto/DevProjects/python/hello-pandas/.venv/lib/python3.13/site-packages (from nltk==3.8.1) (2024.11.6)\n",
      "Requirement already satisfied: tqdm in /Users/marsanto/DevProjects/python/hello-pandas/.venv/lib/python3.13/site-packages (from nltk==3.8.1) (4.67.1)\n",
      "Using cached nltk-3.8.1-py3-none-any.whl (1.5 MB)\n",
      "Installing collected packages: nltk\n",
      "Successfully installed nltk-3.8.1\n"
     ]
    }
   ],
   "source": [
    "!pip uninstall nltk -y\n",
    "!pip install nltk==3.8.1"
   ]
  },
  {
   "cell_type": "code",
   "execution_count": 3,
   "id": "d4e2938c",
   "metadata": {},
   "outputs": [
    {
     "name": "stdout",
     "output_type": "stream",
     "text": [
      "Requirement already satisfied: PyPDF2 in /Users/marsanto/DevProjects/python/hello-pandas/.venv/lib/python3.13/site-packages (3.0.1)\n",
      "Requirement already satisfied: pandas in /Users/marsanto/DevProjects/python/hello-pandas/.venv/lib/python3.13/site-packages (2.3.0)\n",
      "Requirement already satisfied: numpy>=1.26.0 in /Users/marsanto/DevProjects/python/hello-pandas/.venv/lib/python3.13/site-packages (from pandas) (2.3.1)\n",
      "Requirement already satisfied: python-dateutil>=2.8.2 in /Users/marsanto/DevProjects/python/hello-pandas/.venv/lib/python3.13/site-packages (from pandas) (2.9.0.post0)\n",
      "Requirement already satisfied: pytz>=2020.1 in /Users/marsanto/DevProjects/python/hello-pandas/.venv/lib/python3.13/site-packages (from pandas) (2025.2)\n",
      "Requirement already satisfied: tzdata>=2022.7 in /Users/marsanto/DevProjects/python/hello-pandas/.venv/lib/python3.13/site-packages (from pandas) (2025.2)\n",
      "Requirement already satisfied: six>=1.5 in /Users/marsanto/DevProjects/python/hello-pandas/.venv/lib/python3.13/site-packages (from python-dateutil>=2.8.2->pandas) (1.17.0)\n"
     ]
    }
   ],
   "source": [
    "!pip install PyPDF2 pandas"
   ]
  },
  {
   "cell_type": "code",
   "execution_count": 4,
   "id": "02cdaed0",
   "metadata": {},
   "outputs": [
    {
     "name": "stderr",
     "output_type": "stream",
     "text": [
      "[nltk_data] Downloading package punkt to /Users/marsanto/nltk_data...\n",
      "[nltk_data]   Package punkt is already up-to-date!\n"
     ]
    },
    {
     "data": {
      "text/plain": [
       "True"
      ]
     },
     "execution_count": 4,
     "metadata": {},
     "output_type": "execute_result"
    }
   ],
   "source": [
    "import re\n",
    "import nltk\n",
    "import pandas as pd\n",
    "from PyPDF2 import PdfReader\n",
    "from nltk.tokenize import sent_tokenize\n",
    "\n",
    "nltk.download('punkt')\n"
   ]
  },
  {
   "cell_type": "code",
   "execution_count": 5,
   "id": "eeb6e485",
   "metadata": {},
   "outputs": [],
   "source": [
    "# Helper functions\n",
    "def extract_text_from_pdf(pdf_path):\n",
    "    reader = PdfReader(pdf_path)\n",
    "    text = \"\"\n",
    "    for page in reader.pages:\n",
    "        page_text = page.extract_text()\n",
    "        if page_text:\n",
    "            text += page_text + \" \"\n",
    "    return text\n",
    "\n",
    "def clean_text(text):\n",
    "    text = re.sub(r\"\\s+\", \" \", text)\n",
    "    return text.strip()\n",
    "\n",
    "def extract_sentences(text):\n",
    "    return sent_tokenize(text)\n",
    "\n",
    "def is_high_risk(sentence):\n",
    "    sentence_lower = sentence.lower()\n",
    "    \n",
    "    high_risk_triggers = [\n",
    "        \"loss of customer\", \"significant customer\", \"limited number of customers\",\n",
    "        \"limited number of suppliers\", \"depend on\", \"rely on\", \"material adverse effect\",\n",
    "        \"our largest customer\", \"one or more customers\", \"critical supplier\", \n",
    "        \"top customer\", \"major customer\", \"accounted for more than\"\n",
    "    ]\n",
    "    \n",
    "    return any(trigger in sentence_lower for trigger in high_risk_triggers)\n",
    "\n",
    "def extract_type(sentence):\n",
    "    sentence_lower = sentence.lower()\n",
    "    if \"supplier\" in sentence_lower:\n",
    "        return \"supplier\"\n",
    "    elif \"customer\" in sentence_lower:\n",
    "        return \"customer\"\n",
    "    return \"\"\n",
    "\n",
    "def extract_percentage(sentence):\n",
    "    match = re.search(r'(\\d{1,3}\\.\\d{1,2}%)', sentence)\n",
    "    return match.group(1) if match else \"\"\n"
   ]
  },
  {
   "cell_type": "code",
   "execution_count": 6,
   "id": "d922e2ab",
   "metadata": {},
   "outputs": [],
   "source": [
    "# Analyze the PDF\n",
    "pdf_path = \"/Users/marsanto/DevProjects/python/risk-extraction/data/Comfort Systems.pdf\"  # using 1 pdf for testing\n",
    "raw_text = extract_text_from_pdf(pdf_path)\n",
    "cleaned_text = clean_text(raw_text)\n",
    "sentences = extract_sentences(cleaned_text)\n",
    "\n",
    "results = []\n",
    "\n",
    "for sentence in sentences:\n",
    "    if \"customer\" in sentence.lower() or \"supplier\" in sentence.lower():\n",
    "        risk_flag = is_high_risk(sentence)\n",
    "        if risk_flag:  # Only flag sentences considered risky\n",
    "            results.append({\n",
    "                \"sentence\": sentence.strip(),\n",
    "                \"percentage\": extract_percentage(sentence),\n",
    "                \"type\": extract_type(sentence),\n",
    "                \"is_high_risk\": risk_flag\n",
    "            })\n"
   ]
  },
  {
   "cell_type": "code",
   "execution_count": null,
   "id": "d568dc62",
   "metadata": {},
   "outputs": [
    {
     "name": "stdout",
     "output_type": "stream",
     "text": [
      "✅ Saved to: /Users/marsanto/DevProjects/python/risk-extraction/output/risk_sentences_2025-07-01_22-57-48.csv\n"
     ]
    },
    {
     "data": {
      "text/html": [
       "<div>\n",
       "<style scoped>\n",
       "    .dataframe tbody tr th:only-of-type {\n",
       "        vertical-align: middle;\n",
       "    }\n",
       "\n",
       "    .dataframe tbody tr th {\n",
       "        vertical-align: top;\n",
       "    }\n",
       "\n",
       "    .dataframe thead th {\n",
       "        text-align: right;\n",
       "    }\n",
       "</style>\n",
       "<table border=\"1\" class=\"dataframe\">\n",
       "  <thead>\n",
       "    <tr style=\"text-align: right;\">\n",
       "      <th></th>\n",
       "      <th>sentence</th>\n",
       "      <th>percentage</th>\n",
       "      <th>type</th>\n",
       "      <th>is_high_risk</th>\n",
       "    </tr>\n",
       "  </thead>\n",
       "  <tbody>\n",
       "    <tr>\n",
       "      <th>0</th>\n",
       "      <td>Sales and Marketing We have a diverse customer...</td>\n",
       "      <td>13.3%</td>\n",
       "      <td>customer</td>\n",
       "      <td>True</td>\n",
       "    </tr>\n",
       "    <tr>\n",
       "      <th>1</th>\n",
       "      <td>Our largest customer can change from year to y...</td>\n",
       "      <td></td>\n",
       "      <td>customer</td>\n",
       "      <td>True</td>\n",
       "    </tr>\n",
       "    <tr>\n",
       "      <th>2</th>\n",
       "      <td>Although we have7/1/25, 9:07 PM Comfort System...</td>\n",
       "      <td></td>\n",
       "      <td>customer</td>\n",
       "      <td>True</td>\n",
       "    </tr>\n",
       "    <tr>\n",
       "      <th>3</th>\n",
       "      <td>A loss of business from a significant customer...</td>\n",
       "      <td></td>\n",
       "      <td>customer</td>\n",
       "      <td>True</td>\n",
       "    </tr>\n",
       "    <tr>\n",
       "      <th>4</th>\n",
       "      <td>We hire third-party subcontractors to perform ...</td>\n",
       "      <td></td>\n",
       "      <td>supplier</td>\n",
       "      <td>True</td>\n",
       "    </tr>\n",
       "  </tbody>\n",
       "</table>\n",
       "</div>"
      ],
      "text/plain": [
       "                                            sentence percentage      type  \\\n",
       "0  Sales and Marketing We have a diverse customer...      13.3%  customer   \n",
       "1  Our largest customer can change from year to y...             customer   \n",
       "2  Although we have7/1/25, 9:07 PM Comfort System...             customer   \n",
       "3  A loss of business from a significant customer...             customer   \n",
       "4  We hire third-party subcontractors to perform ...             supplier   \n",
       "\n",
       "   is_high_risk  \n",
       "0          True  \n",
       "1          True  \n",
       "2          True  \n",
       "3          True  \n",
       "4          True  "
      ]
     },
     "execution_count": 8,
     "metadata": {},
     "output_type": "execute_result"
    }
   ],
   "source": [
    "import os\n",
    "from datetime import datetime\n",
    "\n",
    "# Create a timestamped filename\n",
    "timestamp = datetime.now().strftime(\"%Y-%m-%d_%H-%M-%S\")\n",
    "output_folder = \"/Users/marsanto/DevProjects/python/risk-extraction/output\"\n",
    "output_filename = f\"risk_sentences_{timestamp}.csv\"\n",
    "output_path = os.path.join(output_folder, output_filename)\n",
    "\n",
    "# Save results to CSV\n",
    "df = pd.DataFrame(results)\n",
    "df.to_csv(output_path, index=False)\n",
    "\n",
    "print(f\"Saved to: {output_path}\")\n",
    "df.head()\n"
   ]
  }
 ],
 "metadata": {
  "kernelspec": {
   "display_name": ".venv",
   "language": "python",
   "name": "python3"
  },
  "language_info": {
   "codemirror_mode": {
    "name": "ipython",
    "version": 3
   },
   "file_extension": ".py",
   "mimetype": "text/x-python",
   "name": "python",
   "nbconvert_exporter": "python",
   "pygments_lexer": "ipython3",
   "version": "3.13.5"
  }
 },
 "nbformat": 4,
 "nbformat_minor": 5
}
